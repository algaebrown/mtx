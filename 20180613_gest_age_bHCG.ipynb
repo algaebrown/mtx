{
 "cells": [
  {
   "cell_type": "code",
   "execution_count": 5,
   "metadata": {},
   "outputs": [],
   "source": [
    "import pandas as pd\n",
    "event = pd.read_csv(\"../gest_age_hcg.csv\", dtype = {'chr_no':str, 'mtx_type': str, 'gestational_age': float, 'b-HCG_pretreatment': float})"
   ]
  },
  {
   "cell_type": "code",
   "execution_count": 4,
   "metadata": {},
   "outputs": [
    {
     "data": {
      "text/html": [
       "<div>\n",
       "<style>\n",
       "    .dataframe thead tr:only-child th {\n",
       "        text-align: right;\n",
       "    }\n",
       "\n",
       "    .dataframe thead th {\n",
       "        text-align: left;\n",
       "    }\n",
       "\n",
       "    .dataframe tbody tr th {\n",
       "        vertical-align: top;\n",
       "    }\n",
       "</style>\n",
       "<table border=\"1\" class=\"dataframe\">\n",
       "  <thead>\n",
       "    <tr style=\"text-align: right;\">\n",
       "      <th></th>\n",
       "      <th>event_id</th>\n",
       "      <th>chr_no</th>\n",
       "      <th>patient age</th>\n",
       "      <th>gestational_age</th>\n",
       "      <th>symptom</th>\n",
       "      <th>fetal heart beat</th>\n",
       "      <th>mass size(cm)</th>\n",
       "      <th>b-HCG_pretreatment</th>\n",
       "      <th>MTX type</th>\n",
       "      <th>MTX times</th>\n",
       "      <th>Surgery</th>\n",
       "    </tr>\n",
       "  </thead>\n",
       "  <tbody>\n",
       "    <tr>\n",
       "      <th>0</th>\n",
       "      <td>00174899</td>\n",
       "      <td>174899</td>\n",
       "      <td>29</td>\n",
       "      <td>65.0</td>\n",
       "      <td>NaN</td>\n",
       "      <td>NaN</td>\n",
       "      <td>NaN</td>\n",
       "      <td>175.49</td>\n",
       "      <td>PO</td>\n",
       "      <td>1</td>\n",
       "      <td>-</td>\n",
       "    </tr>\n",
       "    <tr>\n",
       "      <th>1</th>\n",
       "      <td>00966135</td>\n",
       "      <td>966135</td>\n",
       "      <td>30</td>\n",
       "      <td>17.0</td>\n",
       "      <td>NaN</td>\n",
       "      <td>-</td>\n",
       "      <td>2.15 X 1.84</td>\n",
       "      <td>1313.00</td>\n",
       "      <td>IM50</td>\n",
       "      <td>1</td>\n",
       "      <td>+</td>\n",
       "    </tr>\n",
       "    <tr>\n",
       "      <th>2</th>\n",
       "      <td>04337850</td>\n",
       "      <td>4337850</td>\n",
       "      <td>21</td>\n",
       "      <td>64.0</td>\n",
       "      <td>NaN</td>\n",
       "      <td>-</td>\n",
       "      <td>3.52x2.22</td>\n",
       "      <td>616.40</td>\n",
       "      <td>IM50</td>\n",
       "      <td>1</td>\n",
       "      <td>-</td>\n",
       "    </tr>\n",
       "    <tr>\n",
       "      <th>3</th>\n",
       "      <td>04638056</td>\n",
       "      <td>4638056</td>\n",
       "      <td>35</td>\n",
       "      <td>45.0</td>\n",
       "      <td>NaN</td>\n",
       "      <td>NaN</td>\n",
       "      <td>NaN</td>\n",
       "      <td>602.90</td>\n",
       "      <td>IM50</td>\n",
       "      <td>1</td>\n",
       "      <td>-</td>\n",
       "    </tr>\n",
       "    <tr>\n",
       "      <th>4</th>\n",
       "      <td>05535569</td>\n",
       "      <td>5535569</td>\n",
       "      <td>29</td>\n",
       "      <td>67.0</td>\n",
       "      <td>NaN</td>\n",
       "      <td>NaN</td>\n",
       "      <td>NaN</td>\n",
       "      <td>264.46</td>\n",
       "      <td>IM50</td>\n",
       "      <td>1</td>\n",
       "      <td>-</td>\n",
       "    </tr>\n",
       "  </tbody>\n",
       "</table>\n",
       "</div>"
      ],
      "text/plain": [
       "   event_id  chr_no\\n  patient age  gestational_age  symptom fetal heart beat  \\\n",
       "0  00174899    174899           29             65.0      NaN              NaN   \n",
       "1  00966135    966135           30             17.0      NaN                -   \n",
       "2  04337850   4337850           21             64.0      NaN                -   \n",
       "3  04638056   4638056           35             45.0      NaN              NaN   \n",
       "4  05535569   5535569           29             67.0      NaN              NaN   \n",
       "\n",
       "  mass size(cm)  b-HCG_pretreatment MTX type  MTX times Surgery  \n",
       "0           NaN              175.49       PO          1       -  \n",
       "1  2.15 X 1.84              1313.00     IM50          1       +  \n",
       "2     3.52x2.22              616.40     IM50          1       -  \n",
       "3           NaN              602.90     IM50          1       -  \n",
       "4           NaN              264.46     IM50          1       -  "
      ]
     },
     "execution_count": 4,
     "metadata": {},
     "output_type": "execute_result"
    }
   ],
   "source": [
    "event.head()"
   ]
  },
  {
   "cell_type": "code",
   "execution_count": 8,
   "metadata": {
    "collapsed": true
   },
   "outputs": [],
   "source": [
    "nrml = pd.read_csv(\"../nrml_hcg.csv\")"
   ]
  },
  {
   "cell_type": "code",
   "execution_count": 9,
   "metadata": {},
   "outputs": [
    {
     "data": {
      "text/html": [
       "<div>\n",
       "<style>\n",
       "    .dataframe thead tr:only-child th {\n",
       "        text-align: right;\n",
       "    }\n",
       "\n",
       "    .dataframe thead th {\n",
       "        text-align: left;\n",
       "    }\n",
       "\n",
       "    .dataframe tbody tr th {\n",
       "        vertical-align: top;\n",
       "    }\n",
       "</style>\n",
       "<table border=\"1\" class=\"dataframe\">\n",
       "  <thead>\n",
       "    <tr style=\"text-align: right;\">\n",
       "      <th></th>\n",
       "      <th>gestational_age</th>\n",
       "      <th>lowest</th>\n",
       "      <th>highest</th>\n",
       "      <th>Unnamed: 3</th>\n",
       "      <th>Unnamed: 4</th>\n",
       "    </tr>\n",
       "  </thead>\n",
       "  <tbody>\n",
       "    <tr>\n",
       "      <th>0</th>\n",
       "      <td>21.0</td>\n",
       "      <td>5</td>\n",
       "      <td>50</td>\n",
       "      <td>NaN</td>\n",
       "      <td>NaN</td>\n",
       "    </tr>\n",
       "    <tr>\n",
       "      <th>1</th>\n",
       "      <td>28.0</td>\n",
       "      <td>5</td>\n",
       "      <td>426</td>\n",
       "      <td>NaN</td>\n",
       "      <td>NaN</td>\n",
       "    </tr>\n",
       "    <tr>\n",
       "      <th>2</th>\n",
       "      <td>35.0</td>\n",
       "      <td>18</td>\n",
       "      <td>7340</td>\n",
       "      <td>NaN</td>\n",
       "      <td></td>\n",
       "    </tr>\n",
       "    <tr>\n",
       "      <th>3</th>\n",
       "      <td>42.0</td>\n",
       "      <td>1080</td>\n",
       "      <td>56500</td>\n",
       "      <td>NaN</td>\n",
       "      <td>NaN</td>\n",
       "    </tr>\n",
       "    <tr>\n",
       "      <th>4</th>\n",
       "      <td>52.5</td>\n",
       "      <td>7650</td>\n",
       "      <td>229000</td>\n",
       "      <td>NaN</td>\n",
       "      <td>NaN</td>\n",
       "    </tr>\n",
       "    <tr>\n",
       "      <th>5</th>\n",
       "      <td>73.5</td>\n",
       "      <td>25700</td>\n",
       "      <td>288000</td>\n",
       "      <td>NaN</td>\n",
       "      <td>NaN</td>\n",
       "    </tr>\n",
       "    <tr>\n",
       "      <th>6</th>\n",
       "      <td>101.5</td>\n",
       "      <td>13300</td>\n",
       "      <td>254000</td>\n",
       "      <td>NaN</td>\n",
       "      <td>NaN</td>\n",
       "    </tr>\n",
       "    <tr>\n",
       "      <th>7</th>\n",
       "      <td>150.5</td>\n",
       "      <td>4060</td>\n",
       "      <td>165400</td>\n",
       "      <td>NaN</td>\n",
       "      <td>NaN</td>\n",
       "    </tr>\n",
       "    <tr>\n",
       "      <th>8</th>\n",
       "      <td>227.5</td>\n",
       "      <td>3640</td>\n",
       "      <td>117000</td>\n",
       "      <td>NaN</td>\n",
       "      <td>NaN</td>\n",
       "    </tr>\n",
       "  </tbody>\n",
       "</table>\n",
       "</div>"
      ],
      "text/plain": [
       "   gestational_age  lowest  highest  Unnamed: 3 Unnamed: 4\n",
       "0             21.0       5       50         NaN        NaN\n",
       "1             28.0       5      426         NaN        NaN\n",
       "2             35.0      18     7340         NaN           \n",
       "3             42.0    1080    56500         NaN        NaN\n",
       "4             52.5    7650   229000         NaN        NaN\n",
       "5             73.5   25700   288000         NaN        NaN\n",
       "6            101.5   13300   254000         NaN        NaN\n",
       "7            150.5    4060   165400         NaN        NaN\n",
       "8            227.5    3640   117000         NaN        NaN"
      ]
     },
     "execution_count": 9,
     "metadata": {},
     "output_type": "execute_result"
    }
   ],
   "source": [
    "nrml"
   ]
  },
  {
   "cell_type": "code",
   "execution_count": 17,
   "metadata": {},
   "outputs": [
    {
     "data": {
      "text/plain": [
       "<matplotlib.axes._subplots.AxesSubplot at 0x7fa61805c860>"
      ]
     },
     "execution_count": 17,
     "metadata": {},
     "output_type": "execute_result"
    },
    {
     "data": {
      "image/png": "[encoded data removed]",
      "text/plain": [
       "<matplotlib.figure.Figure at 0x7fa617c92a20>"
      ]
     },
     "metadata": {},
     "output_type": "display_data"
    }
   ],
   "source": [
    "%matplotlib inline\n",
    "import matplotlib.pyplot as plt\n",
    "fig, ax = plt.subplots(figsize=(8,6))\n",
    "ax.fill_between(nrml['gestational_age'],nrml['highest'], nrml['lowest'], color = 'grey')\n",
    "event[['gestational_age', 'b-HCG_pretreatment']].plot(kind = 'scatter', x = 'gestational_age', y = 'b-HCG_pretreatment', ax = ax, color = 'black')\n",
    "#plt.plot(nrml['gestational_age'], nrml['lowest'])\n",
    "#plt.plot(nrml['gestational_age'], nrml['highest'])\n"
   ]
  },
  {
   "cell_type": "code",
   "execution_count": null,
   "metadata": {
    "collapsed": true
   },
   "outputs": [],
   "source": []
  }
 ],
 "metadata": {
  "kernelspec": {
   "display_name": "Python 3",
   "language": "python",
   "name": "python3"
  },
  "language_info": {
   "codemirror_mode": {
    "name": "ipython",
    "version": 3
   },
   "file_extension": ".py",
   "mimetype": "text/x-python",
   "name": "python",
   "nbconvert_exporter": "python",
   "pygments_lexer": "ipython3",
   "version": "3.6.3"
  }
 },
 "nbformat": 4,
 "nbformat_minor": 2
}
